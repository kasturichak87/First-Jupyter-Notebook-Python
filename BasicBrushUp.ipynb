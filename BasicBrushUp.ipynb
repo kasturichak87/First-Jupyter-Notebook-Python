{
 "cells": [
  {
   "cell_type": "markdown",
   "metadata": {},
   "source": [
    "# This is going to discuss about different data types in Python and some basic features to quickly catchup on things ;)"
   ]
  },
  {
   "cell_type": "code",
   "execution_count": 3,
   "metadata": {},
   "outputs": [
    {
     "name": "stdout",
     "output_type": "stream",
     "text": [
      "Hello KC!!\n",
      "Krish\n"
     ]
    }
   ],
   "source": [
    "import random\n",
    "import sys\n",
    "import os\n",
    "\n",
    "print(\"Hello KC!!\")\n",
    "\n",
    "'''This is my multiline \n",
    "comment'''\n",
    "'''Hash is the single line comment which doesnt work in my laptop !! how convenient!'''\n",
    "\n",
    "name =\"Krish\"\n",
    "print (name)"
   ]
  },
  {
   "cell_type": "raw",
   "metadata": {},
   "source": [
    "order of operations : BODMAS ;) Also this doesnt run ! This is too much fun!"
   ]
  },
  {
   "cell_type": "code",
   "execution_count": 5,
   "metadata": {},
   "outputs": [
    {
     "name": "stdout",
     "output_type": "stream",
     "text": [
      "1+3-5%3 + 5**6 =  15627\n",
      "cool Stuff!\n"
     ]
    }
   ],
   "source": [
    "print(\"1+3-5%3 + 5**6 = \", 1+3-5%3 + 5**6)\n",
    "print (\"cool Stuff!\")"
   ]
  },
  {
   "cell_type": "code",
   "execution_count": 18,
   "metadata": {},
   "outputs": [
    {
     "name": "stdout",
     "output_type": "stream",
     "text": [
      " I wandered lonely as \n",
      "a cloud\n",
      "\"To be or not to be!!\"\n",
      "I am too good for people  I wandered lonely as \n",
      "a cloud \"To be or not to be!!\"\n",
      "I love the following items :  \n",
      "\n",
      "1) Harry Potter \n",
      "\n",
      "2) Chocolate \n",
      "\n",
      "3) All possible junks \n",
      "\n"
     ]
    }
   ],
   "source": [
    "quote =\"\\\"To be or not to be!!\\\"\"\n",
    "\n",
    "multi_Line_Quote = ''' I wandered lonely as \n",
    "a cloud'''\n",
    "\n",
    "print(multi_Line_Quote)\n",
    "\n",
    "print (quote)\n",
    "\n",
    "print(\"%s %s %s\" % ('I am too good for people', multi_Line_Quote,quote))\n",
    "\n",
    "print (\"I love the following items : \" , '\\n')\n",
    "print (\"1) Harry Potter\",'\\n')\n",
    "print(\"2) Chocolate\" ,'\\n')\n",
    "print(\"3) All possible junks\" ,'\\n')"
   ]
  },
  {
   "cell_type": "code",
   "execution_count": 42,
   "metadata": {},
   "outputs": [
    {
     "name": "stdout",
     "output_type": "stream",
     "text": [
      "Juice\n",
      "Milk\n",
      "['Juice', 'Milk']\n",
      "[['Washing', 'Studying'], ['Juice', 'Milk']]\n",
      "Milk\n",
      "[['Washing', 'Studying', 'Sleeping'], ['Juice', 'Milk']]\n",
      "[['More Sleeping', 'Washing', 'Studying', 'Sleeping'], ['Juice', 'Milk']]\n",
      "[['More Sleeping', 'Washing', 'Studying'], ['Juice', 'Milk']]\n",
      "['King Prawns', 'Juice', 'Milk']\n",
      "['Juice', 'King Prawns', 'Milk']\n",
      "['Milk', 'King Prawns', 'Juice']\n",
      "['Milk', 'Juice']\n",
      "Agreed List is cool\n"
     ]
    }
   ],
   "source": [
    "grocery_List= ['Juice','Milk']\n",
    "\n",
    "print(grocery_List[0])\n",
    "print(grocery_List[1])\n",
    "print(grocery_List[0:2])\n",
    "\n",
    "other_events = [\"Washing\" , \"Studying\"]\n",
    "\n",
    "to_do_list = [other_events , grocery_List]\n",
    "print(to_do_list)\n",
    "\n",
    "print(to_do_list[1][1])\n",
    "\n",
    "other_events.append('Sleeping')\n",
    "\n",
    "print(to_do_list)\n",
    "\n",
    "other_events.insert(0,'More Sleeping')\n",
    "\n",
    "print(to_do_list)\n",
    "\n",
    "# hash finally works ! So too much sleeping lets delete it\n",
    "\n",
    "other_events.remove('Sleeping')\n",
    "\n",
    "print(to_do_list)\n",
    "\n",
    "grocery_List.insert(0,'King Prawns')\n",
    "\n",
    "print(grocery_List)\n",
    "grocery_List.sort()\n",
    "\n",
    "print (grocery_List)\n",
    "\n",
    "grocery_List.reverse()\n",
    "\n",
    "print (grocery_List)\n",
    "\n",
    "del grocery_List[1]    #Since i am going vegetarian hopefullY ! Sob Sob!\n",
    "\n",
    "print (grocery_List)\n",
    "\n",
    "\n",
    "print(\"Agreed List is cool\")\n",
    "\n"
   ]
  },
  {
   "cell_type": "code",
   "execution_count": null,
   "metadata": {
    "collapsed": true
   },
   "outputs": [],
   "source": []
  }
 ],
 "metadata": {
  "kernelspec": {
   "display_name": "Python 3",
   "language": "python",
   "name": "python3"
  },
  "language_info": {
   "codemirror_mode": {
    "name": "ipython",
    "version": 3
   },
   "file_extension": ".py",
   "mimetype": "text/x-python",
   "name": "python",
   "nbconvert_exporter": "python",
   "pygments_lexer": "ipython3",
   "version": "3.6.1"
  }
 },
 "nbformat": 4,
 "nbformat_minor": 2
}
